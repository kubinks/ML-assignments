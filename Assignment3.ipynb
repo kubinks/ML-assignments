{
 "cells": [
  {
   "cell_type": "markdown",
   "metadata": {},
   "source": [
    "1. Write a Python Program to implement your own myreduce() function which works exactly\n",
    "like Python's built-in function reduce()"
   ]
  },
  {
   "cell_type": "code",
   "execution_count": 1,
   "metadata": {},
   "outputs": [],
   "source": [
    "def myreduce(function,lst):\n",
    "    temporary = lst.copy()\n",
    "    if len(temporary) >= 2:\n",
    "        temporary[1] = function(temporary[0],temporary[1])\n",
    "        temporary.pop(0)\n",
    "        return myreduce(function,temporary)\n",
    "    else:\n",
    "        return temporary[0]"
   ]
  },
  {
   "cell_type": "code",
   "execution_count": 2,
   "metadata": {
    "scrolled": false
   },
   "outputs": [],
   "source": [
    "from functools import reduce\n",
    "lst = [5,2,7,2]\n",
    "print('list', lst)\n",
    "print('sum', myreduce(lambda o,p: o+p, lst), '\\t\\t\\t\\tcheck', reduce(lambda o,p: o+p, lst))\n",
    "print('divided', myreduce(lambda o,p: o/p, lst), '\\tcheck', reduce(lambda o,p: o/p, lst))\n",
    "print('multiplied', myreduce(lambda o,p: o*p, lst), '\\t\\t\\tcheck', reduce(lambda o,p: o*p, lst))\n",
    "print('difference', myreduce(lambda o,p: o-p, lst), '\\t\\t\\tcheck', reduce(lambda o,p: o-p, lst))\n",
    "print('modulo', myreduce(lambda o,p: o%p, lst), '\\t\\t\\tcheck', reduce(lambda o,p: o%p, lst))"
   ]
  },
  {
   "cell_type": "markdown",
   "metadata": {},
   "source": [
    "2. Write a Python program to implement your own myfilter() function which works exactly like\n",
    "Python's built-in function filter()"
   ]
  },
  {
   "cell_type": "code",
   "execution_count": 3,
   "metadata": {},
   "outputs": [],
   "source": [
    "def myfilter(function,lst):\n",
    "    temporary = []\n",
    "    for item in lst:\n",
    "        if function(item) is True:\n",
    "            temporary.append(item)\n",
    "    return temporary\n",
    "\n",
    "def even_check(num):\n",
    "    if num%2 ==0:\n",
    "        return True"
   ]
  },
  {
   "cell_type": "code",
   "execution_count": 4,
   "metadata": {},
   "outputs": [],
   "source": [
    "lst =[1,2,3,4,5,6,7,8,99,100]\n",
    "\n",
    "print('filter', list(filter(even_check,lst)))\n",
    "print('myfilter', list(myfilter(even_check,lst)))"
   ]
  },
  {
   "cell_type": "markdown",
   "metadata": {},
   "source": [
    "3. Implement List comprehensions to produce the following lists.\n",
    "<br>\n",
    "Write List comprehensions to produce the following Lists\n",
    "<br>\n",
    "['A', 'C', 'A', 'D', 'G', 'I', ’L’, ‘ D’]\n",
    "<br>\n",
    "['x', 'xx', 'xxx', 'xxxx', 'y', 'yy', 'yyy', 'yyyy', 'z', 'zz', 'zzz', 'zzzz']\n",
    "<br>\n",
    "['x', 'y', 'z', 'xx', 'yy', 'zz', 'xx', 'yy', 'zz', 'xxxx', 'yyyy', 'zzzz']\n",
    "<br>\n",
    "[[2], [3], [4], [3], [4], [5], [4], [5], [6]]\n",
    "<br>\n",
    "[[2, 3, 4, 5], [3, 4, 5, 6], [4, 5, 6, 7], [5, 6, 7, 8]]\n",
    "<br>\n",
    "[(1, 1), (2, 1), (3, 1), (1, 2), (2, 2), (3, 2), (1, 3), (2, 3), (3, 3)]"
   ]
  },
  {
   "cell_type": "code",
   "execution_count": 6,
   "metadata": {
    "scrolled": true
   },
   "outputs": [
    {
     "name": "stdout",
     "output_type": "stream",
     "text": [
      "['x', 'xx', 'xxx', 'xxxx', 'y', 'yy', 'yyy', 'yyyy', 'z', 'zz', 'zzz', 'zzzz']\n",
      "['x', 'y', 'z', 'xx', 'yy', 'zz', 'xx', 'yy', 'zz', 'xxxx', 'yyyy', 'zzzz']\n",
      "[[2], [3], [4], [3], [4], [5], [4], [5], [6]]\n",
      "[[2, 3, 4, 5], [3, 4, 5, 6], [4, 5, 6, 7], [5, 6, 7, 8]]\n",
      "[(1, 1), (2, 1), (3, 1), (1, 2), (2, 2), (3, 2), (1, 3), (2, 3), (3, 3)]\n"
     ]
    }
   ],
   "source": [
    "list2, list3, list4, list5, list6 = [],[],[],[],[]\n",
    "letters2 = ['x','y','z']\n",
    "letters3 = letters2\n",
    "temp = []\n",
    "\n",
    "    \n",
    "# ['x', 'xx', 'xxx', 'xxxx', 'y', 'yy', 'yyy', 'yyyy', 'z', 'zz', 'zzz', 'zzzz']\n",
    "for letter in letters2:\n",
    "    for i in range(1,5):\n",
    "        list2.append(letter*i)\n",
    "        \n",
    "# ['x', 'y', 'z', 'xx', 'yy', 'zz', 'xx', 'yy', 'zz', 'xxxx', 'yyyy', 'zzzz'] \n",
    "for i in range(1,5):\n",
    "    if i == 3:\n",
    "        for letter in letters3:\n",
    "            list3.append(letter*(i-1))\n",
    "    else:\n",
    "        for letter in letters3:\n",
    "            list3.append(letter*i)\n",
    "            \n",
    "# [[2], [3], [4], [3], [4], [5], [4], [5], [6]]\n",
    "for i in range(1,4):\n",
    "    for j in range(1,4):\n",
    "        list4.append([i+j])\n",
    "        \n",
    "# [[2, 3, 4, 5], [3, 4, 5, 6], [4, 5, 6, 7], [5, 6, 7, 8]]\n",
    "for i in range(1,5):\n",
    "    if temp == []:\n",
    "        for i in range(1,5):\n",
    "            temp.append(i+1)\n",
    "    list5.append(temp)\n",
    "    temp = [x+1 for x in temp]\n",
    "    \n",
    "# [(1, 1), (2, 1), (3, 1), (1, 2), (2, 2), (3, 2), (1, 3), (2, 3), (3, 3)]\n",
    "for i in range(1,4):\n",
    "    for j in range(1,4):\n",
    "        tpl = (j,i)\n",
    "        list6.append(tpl)\n",
    "        \n",
    "print(list2)\n",
    "print(list3)\n",
    "print(list4)\n",
    "print(list5)\n",
    "print(list6)"
   ]
  }
 ],
 "metadata": {
  "kernelspec": {
   "display_name": "Python 3",
   "language": "python",
   "name": "python3"
  },
  "language_info": {
   "codemirror_mode": {
    "name": "ipython",
    "version": 3
   },
   "file_extension": ".py",
   "mimetype": "text/x-python",
   "name": "python",
   "nbconvert_exporter": "python",
   "pygments_lexer": "ipython3",
   "version": "3.7.7"
  }
 },
 "nbformat": 4,
 "nbformat_minor": 4
}
