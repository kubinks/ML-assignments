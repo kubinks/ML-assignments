{
 "cells": [
  {
   "cell_type": "markdown",
   "metadata": {},
   "source": [
    "It happens all the time: someone gives you data containing malformed strings,\n",
    "Python, lists and missing data. How do you tidy it up so you can get on with the\n",
    "analysis?\n",
    "\n",
    "Take this monstrosity as the DataFrame to use in the following puzzles:\n",
    "\n",
    "df = pd.DataFrame({'From_To': ['LoNDon_paris', 'MAdrid_miLAN',\n",
    "'londON_StockhOlm',\n",
    "'Budapest_PaRis', 'Brussels_londOn'],\n",
    "'FlightNumber': [10045, np.nan, 10065, np.nan, 10085],\n",
    "'RecentDelays': [[23, 47], [], [24, 43, 87], [13], [67, 32]],\n",
    "'Airline': ['KLM(!)', '<Air France> (12)', '(British Airways. )',\n",
    "'12. Air France', '\"Swiss Air\"']})\n",
    "\n",
    "1. Some values in the the FlightNumber column are missing. These numbers are\n",
    "meant to increase by 10 with each row so 10055 and 10075 need to be put in\n",
    "place. Fill in these missing numbers and make the column an integer column\n",
    "(instead of a float column).\n",
    "    \n",
    "2. The From_To column would be better as two separate columns! Split each\n",
    "string on the underscore delimiter _ to give a new temporary DataFrame with\n",
    "the correct values. Assign the correct column names to this temporary\n",
    "DataFrame.\n",
    "    \n",
    "3. Notice how the capitalisation of the city names is all mixed up in this\n",
    "temporary DataFrame. Standardise the strings so that only the first letter is\n",
    "uppercase (e.g. \"londON\" should become \"London\".)\n",
    "    \n",
    "4. Delete the From_To column from df and attach the temporary DataFrame\n",
    "from the previous questions.\n",
    "    \n",
    "5. In the RecentDelays column, the values have been entered into the\n",
    "DataFrame as a list. We would like each first value in its own column, each\n",
    "\n",
    "second value in its own column, and so on. If there isn't an Nth value, the value\n",
    "should be NaN.\n",
    "    \n",
    "Expand the Series of lists into a DataFrame named delays, rename the columns\n",
    "delay_1, delay_2, etc. and replace the unwanted RecentDelays column in df\n",
    "with delays."
   ]
  },
  {
   "cell_type": "code",
   "execution_count": 1,
   "metadata": {},
   "outputs": [],
   "source": [
    "import pandas as pd\n",
    "import numpy as np"
   ]
  },
  {
   "cell_type": "code",
   "execution_count": 2,
   "metadata": {},
   "outputs": [],
   "source": [
    "df = pd.DataFrame({'From_To': ['LoNDon_paris', 'MAdrid_miLAN',\n",
    "'londON_StockhOlm',\n",
    "\n",
    "'Budapest_PaRis', 'Brussels_londOn'],\n",
    "'FlightNumber': [10045, np.nan, 10065, np.nan, 10085],\n",
    "'RecentDelays': [[23, 47], [], [24, 43, 87], [13], [67, 32]],\n",
    "'Airline': ['KLM(!)', '<Air France> (12)', '(British Airways. )',\n",
    "'12. Air France', '\"Swiss Air\"']})"
   ]
  },
  {
   "cell_type": "code",
   "execution_count": 3,
   "metadata": {},
   "outputs": [
    {
     "name": "stdout",
     "output_type": "stream",
     "text": [
      "            From_To  FlightNumber  RecentDelays              Airline\n",
      "0      LoNDon_paris       10045.0      [23, 47]               KLM(!)\n",
      "1      MAdrid_miLAN           NaN            []    <Air France> (12)\n",
      "2  londON_StockhOlm       10065.0  [24, 43, 87]  (British Airways. )\n",
      "3    Budapest_PaRis           NaN          [13]       12. Air France\n",
      "4   Brussels_londOn       10085.0      [67, 32]          \"Swiss Air\"\n"
     ]
    }
   ],
   "source": [
    "print(df.head())"
   ]
  },
  {
   "cell_type": "code",
   "execution_count": 4,
   "metadata": {},
   "outputs": [],
   "source": [
    "# Filling missing values\n",
    "missing_values = [10055, 10075]\n",
    "df.loc[df.FlightNumber.isnull(), 'FlightNumber'] = missing_values"
   ]
  },
  {
   "cell_type": "code",
   "execution_count": 5,
   "metadata": {
    "scrolled": true
   },
   "outputs": [],
   "source": [
    "# Converting FlightNumber type to integer\n",
    "df.FlightNumber = pd.to_numeric(df.FlightNumber, downcast='integer')"
   ]
  },
  {
   "cell_type": "code",
   "execution_count": 6,
   "metadata": {},
   "outputs": [
    {
     "data": {
      "text/plain": [
       "From_To         object\n",
       "FlightNumber     int16\n",
       "RecentDelays    object\n",
       "Airline         object\n",
       "dtype: object"
      ]
     },
     "execution_count": 6,
     "metadata": {},
     "output_type": "execute_result"
    }
   ],
   "source": [
    "df.dtypes"
   ]
  },
  {
   "cell_type": "code",
   "execution_count": 7,
   "metadata": {},
   "outputs": [
    {
     "name": "stdout",
     "output_type": "stream",
     "text": [
      "            From_To  FlightNumber  RecentDelays              Airline\n",
      "0      LoNDon_paris         10045      [23, 47]               KLM(!)\n",
      "1      MAdrid_miLAN         10055            []    <Air France> (12)\n",
      "2  londON_StockhOlm         10065  [24, 43, 87]  (British Airways. )\n",
      "3    Budapest_PaRis         10075          [13]       12. Air France\n",
      "4   Brussels_londOn         10085      [67, 32]          \"Swiss Air\"\n"
     ]
    }
   ],
   "source": [
    "print(df.head())"
   ]
  },
  {
   "cell_type": "code",
   "execution_count": 8,
   "metadata": {},
   "outputs": [],
   "source": [
    "# Splitting and formatting From_To column to a temporary dataframe\n",
    "names = ['From', 'To']\n",
    "temp_df = pd.DataFrame(list(df.From_To.str.lower().str.split('_')), columns=names)\n",
    "temp_df.From = temp_df.From.str.capitalize()\n",
    "temp_df.To = temp_df.To.str.capitalize()"
   ]
  },
  {
   "cell_type": "code",
   "execution_count": 9,
   "metadata": {},
   "outputs": [
    {
     "name": "stdout",
     "output_type": "stream",
     "text": [
      "       From         To\n",
      "0    London      Paris\n",
      "1    Madrid      Milan\n",
      "2    London  Stockholm\n",
      "3  Budapest      Paris\n",
      "4  Brussels     London\n"
     ]
    }
   ],
   "source": [
    "print(temp_df.head())"
   ]
  },
  {
   "cell_type": "code",
   "execution_count": 10,
   "metadata": {},
   "outputs": [],
   "source": [
    "# Joining dataframes and dropping unnecessary From_To column\n",
    "df = temp_df.join(df)\n",
    "df.drop('From_To', axis=1, inplace=True)"
   ]
  },
  {
   "cell_type": "code",
   "execution_count": 11,
   "metadata": {},
   "outputs": [
    {
     "name": "stdout",
     "output_type": "stream",
     "text": [
      "       From         To  FlightNumber  RecentDelays              Airline\n",
      "0    London      Paris         10045      [23, 47]               KLM(!)\n",
      "1    Madrid      Milan         10055            []    <Air France> (12)\n",
      "2    London  Stockholm         10065  [24, 43, 87]  (British Airways. )\n",
      "3  Budapest      Paris         10075          [13]       12. Air France\n",
      "4  Brussels     London         10085      [67, 32]          \"Swiss Air\"\n"
     ]
    }
   ],
   "source": [
    "print(df.head())"
   ]
  },
  {
   "cell_type": "code",
   "execution_count": 12,
   "metadata": {},
   "outputs": [],
   "source": [
    "# Defining the max length of list in RecetDelays column\n",
    "max_len = 0\n",
    "for item in list(df.RecentDelays):\n",
    "    if len(item) > max_len:\n",
    "        max_len = len(item)\n",
    "# Filling lists to have equal number of elements\n",
    "# Getting rid of the warning about modifying a copy of slice since it is intentional\n",
    "pd.options.mode.chained_assignment = None \n",
    "for i, item in enumerate(list(df.RecentDelays)):\n",
    "    temp = item.copy()\n",
    "    while len(temp) < max_len:\n",
    "        temp.append(np.nan)\n",
    "    df.RecentDelays[i] = temp"
   ]
  },
  {
   "cell_type": "code",
   "execution_count": 13,
   "metadata": {},
   "outputs": [
    {
     "name": "stdout",
     "output_type": "stream",
     "text": [
      "       From         To  FlightNumber     RecentDelays              Airline\n",
      "0    London      Paris         10045    [23, 47, nan]               KLM(!)\n",
      "1    Madrid      Milan         10055  [nan, nan, nan]    <Air France> (12)\n",
      "2    London  Stockholm         10065     [24, 43, 87]  (British Airways. )\n",
      "3  Budapest      Paris         10075   [13, nan, nan]       12. Air France\n",
      "4  Brussels     London         10085    [67, 32, nan]          \"Swiss Air\"\n"
     ]
    }
   ],
   "source": [
    "print(df.head())"
   ]
  },
  {
   "cell_type": "code",
   "execution_count": 14,
   "metadata": {
    "scrolled": true
   },
   "outputs": [
    {
     "name": "stdout",
     "output_type": "stream",
     "text": [
      "['delay_1', 'delay_2', 'delay_3']\n"
     ]
    }
   ],
   "source": [
    "# Making list of titles for the new columns\n",
    "delays = ['delay_{}'.format(i+1) for i in range(max_len)]\n",
    "print(delays)\n",
    "# Inserting new delays into df and dropping RecentDelays column\n",
    "df[delays] = pd.DataFrame(df.RecentDelays.values.tolist())\n",
    "df.drop('RecentDelays', axis=1, inplace=True)"
   ]
  },
  {
   "cell_type": "code",
   "execution_count": 15,
   "metadata": {
    "scrolled": true
   },
   "outputs": [
    {
     "name": "stdout",
     "output_type": "stream",
     "text": [
      "       From         To  FlightNumber              Airline  delay_1  delay_2  \\\n",
      "0    London      Paris         10045               KLM(!)     23.0     47.0   \n",
      "1    Madrid      Milan         10055    <Air France> (12)      NaN      NaN   \n",
      "2    London  Stockholm         10065  (British Airways. )     24.0     43.0   \n",
      "3  Budapest      Paris         10075       12. Air France     13.0      NaN   \n",
      "4  Brussels     London         10085          \"Swiss Air\"     67.0     32.0   \n",
      "\n",
      "   delay_3  \n",
      "0      NaN  \n",
      "1      NaN  \n",
      "2     87.0  \n",
      "3      NaN  \n",
      "4      NaN  \n"
     ]
    }
   ],
   "source": [
    "print(df.head())\n",
    "# I just realized that all the steps with filling lists with NaNs weren't necessary\n",
    "# I could have just done\n",
    "# df[['delay_1', 'delay_2', 'delay_3']] = pd.DataFrame(df.RecentDelays.values.tolist())\n",
    "# or at least comprehense the numbers on delay_1, delay_2 etc with max_len of RecentDelays list"
   ]
  },
  {
   "cell_type": "code",
   "execution_count": 16,
   "metadata": {},
   "outputs": [
    {
     "name": "stdout",
     "output_type": "stream",
     "text": [
      "['From', 'To', 'FlightNumber', 'Airline', 'delay_1', 'delay_2', 'delay_3']\n"
     ]
    }
   ],
   "source": [
    "# Rearranging order of columns\n",
    "cols = list(df.columns)\n",
    "print(cols)"
   ]
  },
  {
   "cell_type": "code",
   "execution_count": 17,
   "metadata": {},
   "outputs": [],
   "source": [
    "cols = ['From', 'To', 'FlightNumber', 'delay_1', 'delay_2', 'delay_3', 'Airline']\n",
    "df = df[cols]"
   ]
  },
  {
   "cell_type": "code",
   "execution_count": 18,
   "metadata": {},
   "outputs": [
    {
     "name": "stdout",
     "output_type": "stream",
     "text": [
      "       From         To  FlightNumber  delay_1  delay_2  delay_3  \\\n",
      "0    London      Paris         10045     23.0     47.0      NaN   \n",
      "1    Madrid      Milan         10055      NaN      NaN      NaN   \n",
      "2    London  Stockholm         10065     24.0     43.0     87.0   \n",
      "3  Budapest      Paris         10075     13.0      NaN      NaN   \n",
      "4  Brussels     London         10085     67.0     32.0      NaN   \n",
      "\n",
      "               Airline  \n",
      "0               KLM(!)  \n",
      "1    <Air France> (12)  \n",
      "2  (British Airways. )  \n",
      "3       12. Air France  \n",
      "4          \"Swiss Air\"  \n"
     ]
    }
   ],
   "source": [
    "print(df.head())"
   ]
  },
  {
   "cell_type": "code",
   "execution_count": 19,
   "metadata": {},
   "outputs": [],
   "source": [
    "# Cleaning the Airline column\n",
    "values = df.Airline\n",
    "values = values.str.replace('(', '').str.replace(')', '').str.replace('!', '').str.replace('.', '') \\\n",
    "        .str.replace('\"', '').str.replace('<', '').str.replace('>', '').str.replace('1', '') \\\n",
    "        .str.replace('2', '').str.strip()\n",
    "df.Airline = values"
   ]
  },
  {
   "cell_type": "code",
   "execution_count": 20,
   "metadata": {},
   "outputs": [
    {
     "name": "stdout",
     "output_type": "stream",
     "text": [
      "       From         To  FlightNumber  delay_1  delay_2  delay_3  \\\n",
      "0    London      Paris         10045     23.0     47.0      NaN   \n",
      "1    Madrid      Milan         10055      NaN      NaN      NaN   \n",
      "2    London  Stockholm         10065     24.0     43.0     87.0   \n",
      "3  Budapest      Paris         10075     13.0      NaN      NaN   \n",
      "4  Brussels     London         10085     67.0     32.0      NaN   \n",
      "\n",
      "           Airline  \n",
      "0              KLM  \n",
      "1       Air France  \n",
      "2  British Airways  \n",
      "3       Air France  \n",
      "4        Swiss Air  \n"
     ]
    }
   ],
   "source": [
    "print(df.head())"
   ]
  },
  {
   "cell_type": "code",
   "execution_count": null,
   "metadata": {},
   "outputs": [],
   "source": []
  }
 ],
 "metadata": {
  "kernelspec": {
   "display_name": "Python 3",
   "language": "python",
   "name": "python3"
  },
  "language_info": {
   "codemirror_mode": {
    "name": "ipython",
    "version": 3
   },
   "file_extension": ".py",
   "mimetype": "text/x-python",
   "name": "python",
   "nbconvert_exporter": "python",
   "pygments_lexer": "ipython3",
   "version": "3.7.7"
  }
 },
 "nbformat": 4,
 "nbformat_minor": 4
}
