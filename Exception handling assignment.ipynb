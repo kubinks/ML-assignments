{
 "cells": [
  {
   "cell_type": "markdown",
   "metadata": {},
   "source": [
    "1. Write a function to compute 5/0 and use try/except to catch the exceptions."
   ]
  },
  {
   "cell_type": "code",
   "execution_count": 1,
   "metadata": {},
   "outputs": [],
   "source": [
    "def fun():\n",
    "    try:\n",
    "        return 5/0\n",
    "    except:\n",
    "        return 'You cannot divide by 0!'"
   ]
  },
  {
   "cell_type": "code",
   "execution_count": 2,
   "metadata": {},
   "outputs": [],
   "source": [
    "fun()"
   ]
  },
  {
   "cell_type": "markdown",
   "metadata": {},
   "source": [
    "2. Implement a Python program to generate all sentences where subject is in\n",
    "[\"Americans\", \"Indians\"] and verb is in [\"Play\", \"watch\"] and the object is in\n",
    "[\"Baseball\",\"cricket\"].\n",
    "<br>\n",
    "<br>\n",
    "Hint: Subject,Verb and Object should be declared in the program as shown below.\n",
    "<br>\n",
    "<br>\n",
    "subjects=[\"Americans \",\"Indians\"]\n",
    "<br>\n",
    "verbs=[\"play\",\"watch\"]\n",
    "<br>\n",
    "objects=[\"Baseball\",\"Cricket\"]\n",
    "<br>\n",
    "\n",
    "**Output should come as below:**\n",
    "\n",
    "<br>\n",
    "Americans play Baseball.\n",
    "<br>\n",
    "Americans play Cricket.\n",
    "<br>\n",
    "Americans watch Baseball.\n",
    "<br>\n",
    "Americans watch Cricket.\n",
    "<br>\n",
    "Indians play Baseball.\n",
    "<br>\n",
    "Indians play Cricket.\n",
    "<br>\n",
    "Indians watch Baseball.\n",
    "<br>\n",
    "Indians watch Cricket."
   ]
  },
  {
   "cell_type": "code",
   "execution_count": 3,
   "metadata": {},
   "outputs": [],
   "source": [
    "subjects = ['Americans', 'Indians']\n",
    "verbs = ['play', 'watch']\n",
    "objects = ['Baseball', 'Cricket']\n",
    "\n",
    "for subject in subjects:\n",
    "    for verb in verbs:\n",
    "        for obj in objects:\n",
    "            print(subject + ' ' + verb + ' ' + obj + '.')"
   ]
  }
 ],
 "metadata": {
  "kernelspec": {
   "display_name": "Python 3",
   "language": "python",
   "name": "python3"
  },
  "language_info": {
   "codemirror_mode": {
    "name": "ipython",
    "version": 3
   },
   "file_extension": ".py",
   "mimetype": "text/x-python",
   "name": "python",
   "nbconvert_exporter": "python",
   "pygments_lexer": "ipython3",
   "version": "3.7.7"
  }
 },
 "nbformat": 4,
 "nbformat_minor": 4
}
