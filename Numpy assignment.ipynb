{
 "cells": [
  {
   "cell_type": "markdown",
   "metadata": {},
   "source": [
    "Write a function so that the columns of the output matrix are powers of the input\n",
    "vector.\n",
    "The order of the powers is determined by the increasing boolean argument. Specifically, when\n",
    "increasing is False, the i-th output column is the input vector raised element-wise to the power\n",
    "of N - i - 1.\n",
    "\n",
    "HINT: Such a matrix with a geometric progression in each row is named for Alexandre-\n",
    "Theophile Vandermonde.\n",
    "\n",
    "Problem Statement 2:\n",
    "<br>\n",
    "Given a sequence of n values x1, x2, ..., xn and a window size k>0, the k-th moving average of\n",
    "the given sequence is defined as follows:\n",
    "<br>\n",
    "The moving average sequence has n-k+1 elements as shown below.\n",
    "<br>\n",
    "The moving averages with k=4 of a ten-value sequence (n=10) is shown below\n",
    "<br>\n",
    "i 1 2 3 4 5 6 7 8 9 10\n",
    "<br>\n",
    "===== == == == == == == == == == ==\n",
    "<br>\n",
    "Input 10 20 30 40 50 60 70 80 90 100\n",
    "<br>\n",
    "y1 25 = (10+20+30+40)/4\n",
    "<br>\n",
    "y2 35 = (20+30+40+50)/4\n",
    "<br>\n",
    "y3 45 = (30+40+50+60)/4\n",
    "<br>\n",
    "y4 55 = (40+50+60+70)/4\n",
    "<br>\n",
    "y5 65 = (50+60+70+80)/4\n",
    "<br>\n",
    "y6 75 = (60+70+80+90)/4\n",
    "<br>\n",
    "y7 85 = (70+80+90+100)/4\n",
    "<br>\n",
    "Thus, the moving average sequence has n-k+1=10-4+1=7 values.\n",
    "\n",
    "Question: Write a function to find moving average in an array over a window:\n",
    "<br>\n",
    "Test it over [3, 5, 7, 2, 8, 10, 11, 65, 72, 81, 99, 100, 150] and window of 3."
   ]
  },
  {
   "cell_type": "code",
   "execution_count": 1,
   "metadata": {},
   "outputs": [],
   "source": [
    "import numpy as np"
   ]
  },
  {
   "cell_type": "markdown",
   "metadata": {},
   "source": [
    "## Vandermonde matrix"
   ]
  },
  {
   "cell_type": "code",
   "execution_count": 2,
   "metadata": {},
   "outputs": [
    {
     "data": {
      "text/plain": [
       "array([[       1,        5,       25,      125,      625],\n",
       "       [       1,        7,       49,      343,     2401],\n",
       "       [       1,        8,       64,      512,     4096],\n",
       "       [       1,       14,      196,     2744,    38416],\n",
       "       [       1,       66,     4356,   287496, 18974736]])"
      ]
     },
     "execution_count": 2,
     "metadata": {},
     "output_type": "execute_result"
    }
   ],
   "source": [
    "input_array = np.array([5, 7, 8, 14, 66])\n",
    "t = []\n",
    "for row in input_array:\n",
    "    power = 0\n",
    "    while power < len(input_array):\n",
    "        t.append((row)**power)\n",
    "        power += 1\n",
    "np.array(t).reshape((len(input_array), len(input_array)))"
   ]
  },
  {
   "cell_type": "markdown",
   "metadata": {},
   "source": [
    "## Problem 2"
   ]
  },
  {
   "cell_type": "code",
   "execution_count": 3,
   "metadata": {},
   "outputs": [
    {
     "data": {
      "text/plain": [
       "array([  5.        ,   4.66666667,   5.66666667,   6.66666667,\n",
       "         9.66666667,  28.66666667,  49.33333333,  72.66666667,\n",
       "        84.        ,  93.33333333, 116.33333333])"
      ]
     },
     "execution_count": 3,
     "metadata": {},
     "output_type": "execute_result"
    }
   ],
   "source": [
    "sequence = np.array([3, 5, 7, 2, 8, 10, 11, 65, 72, 81, 99, 100, 150])\n",
    "window = 3\n",
    "n = len(sequence)\n",
    "k = window\n",
    "np.convolve(sequence, np.ones((window))/window)[(window-1):(n-k+3)]"
   ]
  }
 ],
 "metadata": {
  "kernelspec": {
   "display_name": "Python 3",
   "language": "python",
   "name": "python3"
  },
  "language_info": {
   "codemirror_mode": {
    "name": "ipython",
    "version": 3
   },
   "file_extension": ".py",
   "mimetype": "text/x-python",
   "name": "python",
   "nbconvert_exporter": "python",
   "pygments_lexer": "ipython3",
   "version": "3.7.7"
  }
 },
 "nbformat": 4,
 "nbformat_minor": 4
}
